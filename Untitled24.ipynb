{
  "nbformat": 4,
  "nbformat_minor": 0,
  "metadata": {
    "colab": {
      "provenance": [],
      "authorship_tag": "ABX9TyNGjvca5dYgPe+UDdvE2coV",
      "include_colab_link": true
    },
    "kernelspec": {
      "name": "python3",
      "display_name": "Python 3"
    },
    "language_info": {
      "name": "python"
    }
  },
  "cells": [
    {
      "cell_type": "markdown",
      "metadata": {
        "id": "view-in-github",
        "colab_type": "text"
      },
      "source": [
        "<a href=\"https://colab.research.google.com/github/parkhidong/blank-app/blob/main/Untitled24.ipynb\" target=\"_parent\"><img src=\"https://colab.research.google.com/assets/colab-badge.svg\" alt=\"Open In Colab\"/></a>"
      ]
    },
    {
      "cell_type": "code",
      "source": [
        "!pip install -Uq langchain_core langchain_openai langchain"
      ],
      "metadata": {
        "id": "RbPs_kUshijf"
      },
      "execution_count": 6,
      "outputs": []
    },
    {
      "cell_type": "code",
      "source": [
        "import os\n",
        "from openai import OpenAI\n",
        "\n",
        "def init_api():\n",
        "    with open(\"chatgpt_kict2409.env\") as env:\n",
        "       for line in env:\n",
        "           key, value = line.strip().split(\"=\")\n",
        "           os.environ[key] = value\n",
        "\n",
        "init_api()\n",
        "# client = OpenAI(api_key  = os.environ.get(\"API_KEY\"))\n",
        "os.environ[\"OPENAI_API_KEY\"] = os.environ.get(\"API_KEY\")"
      ],
      "metadata": {
        "id": "sWL7JPtFh56o"
      },
      "execution_count": 9,
      "outputs": []
    },
    {
      "cell_type": "code",
      "source": [
        "from langchain_core.runnables import RunnablePassthrough\n",
        "from langchain_core.prompts import ChatPromptTemplate\n",
        "from langchain_core.output_parsers import StrOutputParser\n",
        "from langchain_openai import ChatOpenAI\n",
        "\n",
        "# 할루시네이션 방지 시스템 메시지\n",
        "prompt_template = ChatPromptTemplate.from_messages([\n",
        "    (\"system\",\n",
        "     \"안녕하세요. 대화할 때 정확하고 신뢰할 수 있는 정보만 제공해 주세요. \"\n",
        "     \"잘 모르는 내용은 추측하지 말고 '모르겠습니다'라고 답변해 주세요. 😊\"),\n",
        "    (\"human\", \"{input_text}\")\n",
        "])\n",
        "\n",
        "# LangChain 체인 생성\n",
        "chain = {\"input_text\": RunnablePassthrough()} | prompt_template | ChatOpenAI() | StrOutputParser()\n",
        "\n",
        "# 대화 루프 시작\n",
        "while True:\n",
        "    message = input(\"YOU :(quit : 종료)  \")\n",
        "    if message.lower() == \"quit\":\n",
        "        break\n",
        "\n",
        "    print(\" AI : \", end=\"\", flush=True)\n",
        "\n",
        "    for response in chain.stream(message):\n",
        "        print(response, end=\"\", flush=True)\n",
        "    print()"
      ],
      "metadata": {
        "colab": {
          "base_uri": "https://localhost:8080/"
        },
        "id": "0l0PEpQ_iAv_",
        "outputId": "73f0ffdd-b071-4f74-9e98-de0fb7c3896b"
      },
      "execution_count": 12,
      "outputs": [
        {
          "name": "stdout",
          "output_type": "stream",
          "text": [
            " AI : 모르는 질문을 받으면 저는 \"모르겠습니다\"라고 솔직하게 대답해 드립니다. 그 질문에 대해 잘 알고 있지 않을 때는 틀리거나 오해를 불러일으킬 수 있는 정보를 전달하지 않도록 주의합니다. 혹시 다른 궁금한 점이 있으시다면 또 물어봐 주세요. 함께 알아가는 즐거움을 느낄 수 있도록 최대한 도와드리겠습니다. 😊\n",
            " AI : 한국의 국제정세는 다양한 요인에 영향을 받고 있습니다. 한반도의 긴장 상황, 북한과의 핵 문제, 미국과 중국의 대결, 일본과의 역사 문제 등이 주요 이슈로 부각되고 있습니다. 특히 북한 문제는 한반도 안보를 위협하며 국제사회의 주목을 받고 있습니다. 한국은 이러한 상황에서 국제사회와의 협력을 강화하고 있으며, 미국과의 동맹을 유지하면서 중국과의 경제적 관계도 중요하게 다루고 있습니다. 또한, 한국은 글로벌 이슈에도 적극적으로 참여하며 국제사회에서 더 많은 역할을 하고자 노력하고 있습니다. 이러한 상황에서 한국은 안보와 경제를 균형 있게 발전시키며 국제사회와의 협력을 강화해 나가고 있습니다.\n",
            " AI : 동료지원가는 주로 정신건강이상을 가진 사람들에게 동료로서 지원을 제공하는 역할을 맡습니다. 이들은 자신도 정신건강 이상을 가졌거나 경험한 경험이 있는 사람들로 구성되어 있어, 이해심을 가지고 이야기를 듣고 도와주는 역할을 하게 됩니다. 동료지원가는 이해심, 공감, 지지를 제공하여 정신건강 이상을 가진 사람들이 외로움을 느끼지 않고 도움을 받을 수 있도록 도와줍니다.\n",
            " AI : 동료지원가로서의 가장 중요한 역할은 동료들의 심리적 지원과 동료 간의 관계 개선을 통해 조직 내 부서간 협력을 촉진하는 것입니다. 동료들의 업무 스트레스나 문제에 대해 듣고 공감해주며, 필요한 경우 도움이나 조언을 제공하는 것이 중요합니다. 또한 동료 간의 갈등 조정이나 소통을 원활하게 하는 것도 중요한 역할입니다. 이를 통해 조직 내 업무 효율성을 향상시키고 동료들의 직무 만족도를 높일 수 있습니다.\n",
            " AI : 의료법과 관련된 앱을 만들려면 매우 신중해야 합니다. 의료법은 환자의 안전과 개인정보 보호를 위해 엄격하게 규제되는 법률입니다. 앱을 만들기 전에 꼭 전문가와 상담하고, 법적인 조언을 구하는 것이 중요합니다. \n",
            "\n",
            "의료법을 준수하기 위해서는 다음과 같은 절차를 따르는 것이 좋습니다:\n",
            "1. 법률 전문가와 상담: 의료법 전문가나 변호사와 상담하여 해당 법률에 대해 이해하고, 앱이 규제를 준수하는지 확인합니다.\n",
            "2. 개인정보 보호: 환자의 개인정보 보호에 철저히 신경 써야 합니다. GDPR나 HIPAA와 같은 규정을 준수해야 합니다.\n",
            "3. 안전성 및 효과성 검토: 의학적인 내용이나 의료정보는 정확하고 신뢰할 수 있는 출처에서 가져와야 합니다.\n",
            "4. 허가 및 승인: 의료앱을 운영하려면 해당 국가의 의약품 및 의료기기 행정청이나 기관으로부터 승인을 받아야 할 수도 있습니다.\n",
            "\n",
            "의료앱을 개발하려면 꼭 전문가와 협력하여 법적인 측면을 충분히 고려하고, 안전하고 효과적인 서비스를 제공할 수 있도록 노력해야 합니다.\n",
            " AI : 죄송합니다. '동료지원가'와 관련된 내용을 잘 모르겠습니다. 좀 더 자세한 정보를 알려주시면 도와드릴 수 있을 것 같아요. 😊\n",
            " AI : 정신질환을 앓는 동료에게 동료상담가를 연결시켜주는 앱을 만들기 위해서는 다음과 같은 절차를 따르는 것이 좋습니다:\n",
            "\n",
            "1. 법적인 측면 고려: 정신건강 서비스를 제공하는 앱을 만들기 전에 관련 법률과 규정을 충분히 조사하고 준수해야 합니다. 개인정보 보호법과 의료법 등을 준수해야 합니다.\n",
            "\n",
            "2. 전문가와 협력: 정신건강 분야의 전문가와 협력하여 앱의 내용과 기능을 검토하고, 동료상담가의 자격과 교육을 제공하는 것이 중요합니다.\n",
            "\n",
            "3. 안전하고 신뢰할 수 있는 플랫폼 구성: 사용자의 개인정보 보호와 안전을 위해 안전하고 신뢰할 수 있는 플랫폼을 구성해야 합니다. 데이터 보호 및 보안 시스템을 충분히 갖추어야 합니다.\n",
            "\n",
            "4. 사용자 경험 고려: 사용자가 쉽고 편리하게 동료상담가를 찾고 이용할 수 있도록 사용자 경험을 고려한 디자인을 해야 합니다.\n",
            "\n",
            "5. 마케팅 및 홍보: 앱을 성공적으로 런칭하려면 적절한 마케팅 및 홍보 전략이 필요합니다. 대상 사용자를 정확히 파악하고 그에 맞는 마케팅 전략을 수립해야 합니다.\n",
            "\n",
            "6. 지속적인 관리 및 업데이트: 사용자 피드백을 수집하고 앱을 지속적으로 관리하며 개선해야 합니다. 새로운 기능과 콘텐츠를 업데이트하여 사용자들에게 최신 정보를 제공해야 합니다.\n",
            "\n",
            "이러한 절차를 따라 정신질환을 앓는 동료를 도와주는 동료상담가 연결 앱을 만들 수 있을 것입니다. 부디 안전하고 유익한 서비스를 제공할 수 있기를 바랍니다.  🌟\n",
            " AI : 죄송합니다. 제가 직접 코드를 작성해 드리기는 어렵습니다. 하지만 streamlit은 Python으로 웹 애플리케이션을 쉽게 만들 수 있는 도구이니, 공식 홈페이지를 참고하시면 도움이 될 것입니다. 혹은 구체적인 질문이나 도움이 필요한 부분이 있으면 알려주세요. 가능한 한 도와 드리겠습니다. 😊\n",
            " AI : 알겠습니다. 파이썬으로 무엇을 만들어 드릴까요? 어떤 종류의 프로그램을 원하시나요? 예를 들어 텍스트 분석, 데이터 시각화, 게임 등을 원하시면 그에 맞는 예시 코드를 제공해 드릴 수 있습니다. 자세한 요청을 부탁드립니다.\n",
            " AI : 멋진 계획이네요! Streamlit은 파이썬으로 데이터 분석 및 웹 애플리케이션을 쉽게 만들 수 있는 도구입니다. 동료지원가 연결앱을 Streamlit으로 만들면 사용자들이 쉽게 상호작용하며 데이터를 확인할 수 있을 것 같습니다. 필요하다면 데이터베이스와의 연동 등 추가적인 기능도 고려해보세요. Streamlit을 활용하여 원하는 앱을 만드는 데 성공하길 바랍니다! 🚀 만약 도움이 필요하다면 언제든지 물어봐 주세요.\n",
            "YOU :(quit : 종료)  quit\n"
          ]
        }
      ]
    },
    {
      "cell_type": "code",
      "source": [
        "import streamlit as st\n",
        "import pandas as pd\n",
        "\n",
        "# 가상 데이터 생성: 동료 지원가 리스트\n",
        "supporters = pd.DataFrame({\n",
        "    '이름': ['김철수', '이영희', '박민수', '최지연'],\n",
        "    '경험 년수': [5, 7, 3, 10],\n",
        "    '주요 지원 분야': ['불안 장애', '조울증', '정신분열증', '우울증']\n",
        "})\n",
        "\n",
        "# 사용자가 입력할 수 있는 부분 - 당사자 정보\n",
        "st.title(\"동료 지원가 매칭 앱\")\n",
        "\n",
        "st.write(\"당신의 정보를 입력하세요:\")\n",
        "name = st.text_input(\"이름\")\n",
        "age = st.number_input(\"나이\", min_value=18, max_value=100)\n",
        "main_issue = st.selectbox(\"주요 상담을 원하는 분야\", ['불안 장애', '조울증', '정신분열증', '우울증'])\n",
        "\n",
        "# 동료 지원가 매칭 로직\n",
        "matched_supporter = supporters[supporters['주요 지원 분야'] == main_issue]\n",
        "\n",
        "# 입력이 완료된 경우 동료 지원가 리스트 보여주기\n",
        "if st.button(\"지원가 찾기\"):\n",
        "    if not matched_supporter.empty:\n",
        "        st.write(f\"당신의 주요 이슈는 {main_issue}입니다. 해당 분야의 동료 지원가 리스트:\")\n",
        "        st.table(matched_supporter)\n",
        "    else:\n",
        "        st.write(\"해당 분야에 맞는 동료 지원가가 없습니다.\")\n",
        "\n",
        "# 동료 지원가 정보 추가 기능\n",
        "st.write(\"지원가가 되고 싶으신가요? 정보를 입력해주세요.\")\n",
        "new_supporter_name = st.text_input(\"지원가 이름\")\n",
        "new_supporter_years = st.number_input(\"지원 경험 년수\", min_value=1)\n",
        "new_supporter_field = st.selectbox(\"주요 지원 분야 추가\", ['불안 장애', '조울증', '정신분열증', '우울증'])\n",
        "\n",
        "if st.button(\"지원가 추가하기\"):\n",
        "    new_data = {'이름': new_supporter_name, '경험 년수': new_supporter_years, '주요 지원 분야': new_supporter_field}\n",
        "    supporters = supporters.append(new_data, ignore_index=True)\n",
        "    st.write(\"새로운 동료 지원가가 추가되었습니다.\")\n",
        "    st.table(supporters)\n"
      ],
      "metadata": {
        "colab": {
          "base_uri": "https://localhost:8080/",
          "height": 409
        },
        "id": "OO_UE7sKoMmY",
        "outputId": "a7a0d635-5a65-47fa-9ebf-f27e1ee7c073"
      },
      "execution_count": 15,
      "outputs": [
        {
          "output_type": "error",
          "ename": "ModuleNotFoundError",
          "evalue": "No module named 'streamlit'",
          "traceback": [
            "\u001b[0;31m---------------------------------------------------------------------------\u001b[0m",
            "\u001b[0;31mModuleNotFoundError\u001b[0m                       Traceback (most recent call last)",
            "\u001b[0;32m<ipython-input-15-b675c1f55523>\u001b[0m in \u001b[0;36m<cell line: 1>\u001b[0;34m()\u001b[0m\n\u001b[0;32m----> 1\u001b[0;31m \u001b[0;32mimport\u001b[0m \u001b[0mstreamlit\u001b[0m \u001b[0;32mas\u001b[0m \u001b[0mst\u001b[0m\u001b[0;34m\u001b[0m\u001b[0;34m\u001b[0m\u001b[0m\n\u001b[0m\u001b[1;32m      2\u001b[0m \u001b[0;32mimport\u001b[0m \u001b[0mpandas\u001b[0m \u001b[0;32mas\u001b[0m \u001b[0mpd\u001b[0m\u001b[0;34m\u001b[0m\u001b[0;34m\u001b[0m\u001b[0m\n\u001b[1;32m      3\u001b[0m \u001b[0;34m\u001b[0m\u001b[0m\n\u001b[1;32m      4\u001b[0m \u001b[0;31m# 가상 데이터 생성: 동료 지원가 리스트\u001b[0m\u001b[0;34m\u001b[0m\u001b[0;34m\u001b[0m\u001b[0m\n\u001b[1;32m      5\u001b[0m supporters = pd.DataFrame({\n",
            "\u001b[0;31mModuleNotFoundError\u001b[0m: No module named 'streamlit'",
            "",
            "\u001b[0;31m---------------------------------------------------------------------------\u001b[0;32m\nNOTE: If your import is failing due to a missing package, you can\nmanually install dependencies using either !pip or !apt.\n\nTo view examples of installing some common dependencies, click the\n\"Open Examples\" button below.\n\u001b[0;31m---------------------------------------------------------------------------\u001b[0m\n"
          ],
          "errorDetails": {
            "actions": [
              {
                "action": "open_url",
                "actionText": "Open Examples",
                "url": "/notebooks/snippets/importing_libraries.ipynb"
              }
            ]
          }
        }
      ]
    },
    {
      "cell_type": "markdown",
      "source": [],
      "metadata": {
        "id": "e2LALaj6qCaX"
      }
    },
    {
      "cell_type": "code",
      "source": [],
      "metadata": {
        "id": "cdnhORD4oNe2"
      },
      "execution_count": null,
      "outputs": []
    }
  ]
}